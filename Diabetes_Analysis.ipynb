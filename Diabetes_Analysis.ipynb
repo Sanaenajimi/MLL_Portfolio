{
  "nbformat": 4,
  "nbformat_minor": 0,
  "metadata": {
    "colab": {
      "provenance": [],
      "authorship_tag": "ABX9TyNpfZd2jyp+nYzoTsQq3AhG",
      "include_colab_link": true
    },
    "kernelspec": {
      "name": "python3",
      "display_name": "Python 3"
    },
    "language_info": {
      "name": "python"
    }
  },
  "cells": [
    {
      "cell_type": "markdown",
      "metadata": {
        "id": "view-in-github",
        "colab_type": "text"
      },
      "source": [
        "<a href=\"https://colab.research.google.com/github/Sanaenajimi/MLL_Portfolio/blob/main/Diabetes_Analysis.ipynb\" target=\"_parent\"><img src=\"https://colab.research.google.com/assets/colab-badge.svg\" alt=\"Open In Colab\"/></a>"
      ]
    },
    {
      "cell_type": "markdown",
      "source": [
        "**Diabates Prediction Model**\n",
        "\n",
        "By : Najimi Sanae"
      ],
      "metadata": {
        "id": "pezvScs8-lPx"
      }
    },
    {
      "cell_type": "markdown",
      "source": [
        "##Importing Libraries"
      ],
      "metadata": {
        "id": "5YfXUWnCvsd8"
      }
    },
    {
      "cell_type": "code",
      "source": [
        "import pandas as pd\n",
        "import numpy as np\n",
        "import seaborn as sns\n",
        "import matplotlib.pyplot as plt"
      ],
      "metadata": {
        "id": "5yTejjdNYQOx"
      },
      "execution_count": null,
      "outputs": []
    },
    {
      "cell_type": "markdown",
      "source": [
        "## Loading the dataset"
      ],
      "metadata": {
        "id": "HlV19zOl2pQb"
      }
    },
    {
      "cell_type": "markdown",
      "source": [
        "## EDA"
      ],
      "metadata": {
        "id": "fu3-pH0a20wG"
      }
    },
    {
      "cell_type": "markdown",
      "source": [
        "### Understanding the data set : Diabetes dataset\n",
        "*The data set used contains 9,538 medical records related to diabetes diagnosis and risk factors. It includes various health parameters, lifestyle habits, and genetic predispositions that contribute to diabetes risk.*\n",
        "\n",
        "1. Age: The age of the individual\n",
        "2. Pregnancies: Number of times the patient has been pregnant.\n",
        "3. BMI (Body Mass Index): A measure of body fat based on height and weight (kg/m²).\n",
        "4. Glucose: Blood glucose concentration (mg/dL), a key diabetes indicator.\n",
        "5. BloodPressure: Systolic blood pressure (mmHg), higher levels may indicate hypertension.\n",
        "6. HbA1c: Hemoglobin A1c level (%), representing average blood sugar over months.\n",
        "7. LDL (Low-Density Lipoprotein): \"Bad\" cholesterol level (mg/dL).\n",
        "8. HDL (High-Density Lipoprotein): \"Good\" cholesterol level (mg/dL).\n",
        "9. Triglycerides: Fat levels in the blood (mg/dL), high values increase diabetes risk.\n",
        "10. WaistCircumference: Waist measurement (cm), an indicator of central obesity.\n",
        "11. HipCircumference: Hip measurement (cm), used to calculate WHR.\n",
        "12. WHR (Waist-to-Hip Ratio): Waist circumference divided by hip circumference.\n",
        "13. FamilyHistory: Indicates if the individual has a family history of diabetes (1 = Yes, 0 = No).\n",
        "14. DietType: Dietary habits (0 = Unbalanced, 1 = Balanced, 2 = Vegan/Vegetarian).\n",
        "15. Hypertension: Presence of high blood pressure (1 = Yes, 0 = No).\n",
        "16. MedicationUse: Indicates if the individual is taking medication (1 = Yes, 0 = No).\n",
        "17. Outcome: Diabetes diagnosis result (1 = Diabetes, 0 = No Diabetes).\n",
        "\n",
        "*This dataset is useful for exploring the relationships between lifestyle choices, genetic factors, and diabetes risk, providing valuable insights for predictive modeling and health analytics.*"
      ],
      "metadata": {
        "id": "j7G9lVqXRY1c"
      }
    },
    {
      "cell_type": "code",
      "source": [
        "df = pd.read_csv('diabetes_dataset.csv')"
      ],
      "metadata": {
        "id": "G5M_uB-fcG_O"
      },
      "execution_count": null,
      "outputs": []
    },
    {
      "cell_type": "code",
      "source": [
        "df.head(3)"
      ],
      "metadata": {
        "colab": {
          "base_uri": "https://localhost:8080/",
          "height": 163
        },
        "id": "Lewn4MGQcfb0",
        "outputId": "52b8d545-c482-4521-e192-310b6126600c"
      },
      "execution_count": null,
      "outputs": [
        {
          "output_type": "execute_result",
          "data": {
            "text/plain": [
              "   Age  Pregnancies    BMI  Glucose  BloodPressure  HbA1c    LDL   HDL  \\\n",
              "0   69            5  28.39    130.1           77.0    5.4  130.4  44.0   \n",
              "1   32            1  26.49    116.5           72.0    4.5   87.4  54.2   \n",
              "2   89           13  25.34    101.0           82.0    4.9  112.5  56.8   \n",
              "\n",
              "   Triglycerides  WaistCircumference  HipCircumference   WHR  FamilyHistory  \\\n",
              "0           50.0                90.5             107.9  0.84              0   \n",
              "1          129.9               113.3              81.4  1.39              0   \n",
              "2          177.6                84.7             107.2  0.79              0   \n",
              "\n",
              "   DietType  Hypertension  MedicationUse  Outcome  \n",
              "0         0             0              1        0  \n",
              "1         0             0              0        0  \n",
              "2         0             0              1        0  "
            ],
            "text/html": [
              "\n",
              "  <div id=\"df-3c214608-615d-4a6c-9874-8525bed201b3\" class=\"colab-df-container\">\n",
              "    <div>\n",
              "<style scoped>\n",
              "    .dataframe tbody tr th:only-of-type {\n",
              "        vertical-align: middle;\n",
              "    }\n",
              "\n",
              "    .dataframe tbody tr th {\n",
              "        vertical-align: top;\n",
              "    }\n",
              "\n",
              "    .dataframe thead th {\n",
              "        text-align: right;\n",
              "    }\n",
              "</style>\n",
              "<table border=\"1\" class=\"dataframe\">\n",
              "  <thead>\n",
              "    <tr style=\"text-align: right;\">\n",
              "      <th></th>\n",
              "      <th>Age</th>\n",
              "      <th>Pregnancies</th>\n",
              "      <th>BMI</th>\n",
              "      <th>Glucose</th>\n",
              "      <th>BloodPressure</th>\n",
              "      <th>HbA1c</th>\n",
              "      <th>LDL</th>\n",
              "      <th>HDL</th>\n",
              "      <th>Triglycerides</th>\n",
              "      <th>WaistCircumference</th>\n",
              "      <th>HipCircumference</th>\n",
              "      <th>WHR</th>\n",
              "      <th>FamilyHistory</th>\n",
              "      <th>DietType</th>\n",
              "      <th>Hypertension</th>\n",
              "      <th>MedicationUse</th>\n",
              "      <th>Outcome</th>\n",
              "    </tr>\n",
              "  </thead>\n",
              "  <tbody>\n",
              "    <tr>\n",
              "      <th>0</th>\n",
              "      <td>69</td>\n",
              "      <td>5</td>\n",
              "      <td>28.39</td>\n",
              "      <td>130.1</td>\n",
              "      <td>77.0</td>\n",
              "      <td>5.4</td>\n",
              "      <td>130.4</td>\n",
              "      <td>44.0</td>\n",
              "      <td>50.0</td>\n",
              "      <td>90.5</td>\n",
              "      <td>107.9</td>\n",
              "      <td>0.84</td>\n",
              "      <td>0</td>\n",
              "      <td>0</td>\n",
              "      <td>0</td>\n",
              "      <td>1</td>\n",
              "      <td>0</td>\n",
              "    </tr>\n",
              "    <tr>\n",
              "      <th>1</th>\n",
              "      <td>32</td>\n",
              "      <td>1</td>\n",
              "      <td>26.49</td>\n",
              "      <td>116.5</td>\n",
              "      <td>72.0</td>\n",
              "      <td>4.5</td>\n",
              "      <td>87.4</td>\n",
              "      <td>54.2</td>\n",
              "      <td>129.9</td>\n",
              "      <td>113.3</td>\n",
              "      <td>81.4</td>\n",
              "      <td>1.39</td>\n",
              "      <td>0</td>\n",
              "      <td>0</td>\n",
              "      <td>0</td>\n",
              "      <td>0</td>\n",
              "      <td>0</td>\n",
              "    </tr>\n",
              "    <tr>\n",
              "      <th>2</th>\n",
              "      <td>89</td>\n",
              "      <td>13</td>\n",
              "      <td>25.34</td>\n",
              "      <td>101.0</td>\n",
              "      <td>82.0</td>\n",
              "      <td>4.9</td>\n",
              "      <td>112.5</td>\n",
              "      <td>56.8</td>\n",
              "      <td>177.6</td>\n",
              "      <td>84.7</td>\n",
              "      <td>107.2</td>\n",
              "      <td>0.79</td>\n",
              "      <td>0</td>\n",
              "      <td>0</td>\n",
              "      <td>0</td>\n",
              "      <td>1</td>\n",
              "      <td>0</td>\n",
              "    </tr>\n",
              "  </tbody>\n",
              "</table>\n",
              "</div>\n",
              "    <div class=\"colab-df-buttons\">\n",
              "\n",
              "  <div class=\"colab-df-container\">\n",
              "    <button class=\"colab-df-convert\" onclick=\"convertToInteractive('df-3c214608-615d-4a6c-9874-8525bed201b3')\"\n",
              "            title=\"Convert this dataframe to an interactive table.\"\n",
              "            style=\"display:none;\">\n",
              "\n",
              "  <svg xmlns=\"http://www.w3.org/2000/svg\" height=\"24px\" viewBox=\"0 -960 960 960\">\n",
              "    <path d=\"M120-120v-720h720v720H120Zm60-500h600v-160H180v160Zm220 220h160v-160H400v160Zm0 220h160v-160H400v160ZM180-400h160v-160H180v160Zm440 0h160v-160H620v160ZM180-180h160v-160H180v160Zm440 0h160v-160H620v160Z\"/>\n",
              "  </svg>\n",
              "    </button>\n",
              "\n",
              "  <style>\n",
              "    .colab-df-container {\n",
              "      display:flex;\n",
              "      gap: 12px;\n",
              "    }\n",
              "\n",
              "    .colab-df-convert {\n",
              "      background-color: #E8F0FE;\n",
              "      border: none;\n",
              "      border-radius: 50%;\n",
              "      cursor: pointer;\n",
              "      display: none;\n",
              "      fill: #1967D2;\n",
              "      height: 32px;\n",
              "      padding: 0 0 0 0;\n",
              "      width: 32px;\n",
              "    }\n",
              "\n",
              "    .colab-df-convert:hover {\n",
              "      background-color: #E2EBFA;\n",
              "      box-shadow: 0px 1px 2px rgba(60, 64, 67, 0.3), 0px 1px 3px 1px rgba(60, 64, 67, 0.15);\n",
              "      fill: #174EA6;\n",
              "    }\n",
              "\n",
              "    .colab-df-buttons div {\n",
              "      margin-bottom: 4px;\n",
              "    }\n",
              "\n",
              "    [theme=dark] .colab-df-convert {\n",
              "      background-color: #3B4455;\n",
              "      fill: #D2E3FC;\n",
              "    }\n",
              "\n",
              "    [theme=dark] .colab-df-convert:hover {\n",
              "      background-color: #434B5C;\n",
              "      box-shadow: 0px 1px 3px 1px rgba(0, 0, 0, 0.15);\n",
              "      filter: drop-shadow(0px 1px 2px rgba(0, 0, 0, 0.3));\n",
              "      fill: #FFFFFF;\n",
              "    }\n",
              "  </style>\n",
              "\n",
              "    <script>\n",
              "      const buttonEl =\n",
              "        document.querySelector('#df-3c214608-615d-4a6c-9874-8525bed201b3 button.colab-df-convert');\n",
              "      buttonEl.style.display =\n",
              "        google.colab.kernel.accessAllowed ? 'block' : 'none';\n",
              "\n",
              "      async function convertToInteractive(key) {\n",
              "        const element = document.querySelector('#df-3c214608-615d-4a6c-9874-8525bed201b3');\n",
              "        const dataTable =\n",
              "          await google.colab.kernel.invokeFunction('convertToInteractive',\n",
              "                                                    [key], {});\n",
              "        if (!dataTable) return;\n",
              "\n",
              "        const docLinkHtml = 'Like what you see? Visit the ' +\n",
              "          '<a target=\"_blank\" href=https://colab.research.google.com/notebooks/data_table.ipynb>data table notebook</a>'\n",
              "          + ' to learn more about interactive tables.';\n",
              "        element.innerHTML = '';\n",
              "        dataTable['output_type'] = 'display_data';\n",
              "        await google.colab.output.renderOutput(dataTable, element);\n",
              "        const docLink = document.createElement('div');\n",
              "        docLink.innerHTML = docLinkHtml;\n",
              "        element.appendChild(docLink);\n",
              "      }\n",
              "    </script>\n",
              "  </div>\n",
              "\n",
              "\n",
              "<div id=\"df-be6b1ea5-6575-4e3f-9754-b471b54cb03d\">\n",
              "  <button class=\"colab-df-quickchart\" onclick=\"quickchart('df-be6b1ea5-6575-4e3f-9754-b471b54cb03d')\"\n",
              "            title=\"Suggest charts\"\n",
              "            style=\"display:none;\">\n",
              "\n",
              "<svg xmlns=\"http://www.w3.org/2000/svg\" height=\"24px\"viewBox=\"0 0 24 24\"\n",
              "     width=\"24px\">\n",
              "    <g>\n",
              "        <path d=\"M19 3H5c-1.1 0-2 .9-2 2v14c0 1.1.9 2 2 2h14c1.1 0 2-.9 2-2V5c0-1.1-.9-2-2-2zM9 17H7v-7h2v7zm4 0h-2V7h2v10zm4 0h-2v-4h2v4z\"/>\n",
              "    </g>\n",
              "</svg>\n",
              "  </button>\n",
              "\n",
              "<style>\n",
              "  .colab-df-quickchart {\n",
              "      --bg-color: #E8F0FE;\n",
              "      --fill-color: #1967D2;\n",
              "      --hover-bg-color: #E2EBFA;\n",
              "      --hover-fill-color: #174EA6;\n",
              "      --disabled-fill-color: #AAA;\n",
              "      --disabled-bg-color: #DDD;\n",
              "  }\n",
              "\n",
              "  [theme=dark] .colab-df-quickchart {\n",
              "      --bg-color: #3B4455;\n",
              "      --fill-color: #D2E3FC;\n",
              "      --hover-bg-color: #434B5C;\n",
              "      --hover-fill-color: #FFFFFF;\n",
              "      --disabled-bg-color: #3B4455;\n",
              "      --disabled-fill-color: #666;\n",
              "  }\n",
              "\n",
              "  .colab-df-quickchart {\n",
              "    background-color: var(--bg-color);\n",
              "    border: none;\n",
              "    border-radius: 50%;\n",
              "    cursor: pointer;\n",
              "    display: none;\n",
              "    fill: var(--fill-color);\n",
              "    height: 32px;\n",
              "    padding: 0;\n",
              "    width: 32px;\n",
              "  }\n",
              "\n",
              "  .colab-df-quickchart:hover {\n",
              "    background-color: var(--hover-bg-color);\n",
              "    box-shadow: 0 1px 2px rgba(60, 64, 67, 0.3), 0 1px 3px 1px rgba(60, 64, 67, 0.15);\n",
              "    fill: var(--button-hover-fill-color);\n",
              "  }\n",
              "\n",
              "  .colab-df-quickchart-complete:disabled,\n",
              "  .colab-df-quickchart-complete:disabled:hover {\n",
              "    background-color: var(--disabled-bg-color);\n",
              "    fill: var(--disabled-fill-color);\n",
              "    box-shadow: none;\n",
              "  }\n",
              "\n",
              "  .colab-df-spinner {\n",
              "    border: 2px solid var(--fill-color);\n",
              "    border-color: transparent;\n",
              "    border-bottom-color: var(--fill-color);\n",
              "    animation:\n",
              "      spin 1s steps(1) infinite;\n",
              "  }\n",
              "\n",
              "  @keyframes spin {\n",
              "    0% {\n",
              "      border-color: transparent;\n",
              "      border-bottom-color: var(--fill-color);\n",
              "      border-left-color: var(--fill-color);\n",
              "    }\n",
              "    20% {\n",
              "      border-color: transparent;\n",
              "      border-left-color: var(--fill-color);\n",
              "      border-top-color: var(--fill-color);\n",
              "    }\n",
              "    30% {\n",
              "      border-color: transparent;\n",
              "      border-left-color: var(--fill-color);\n",
              "      border-top-color: var(--fill-color);\n",
              "      border-right-color: var(--fill-color);\n",
              "    }\n",
              "    40% {\n",
              "      border-color: transparent;\n",
              "      border-right-color: var(--fill-color);\n",
              "      border-top-color: var(--fill-color);\n",
              "    }\n",
              "    60% {\n",
              "      border-color: transparent;\n",
              "      border-right-color: var(--fill-color);\n",
              "    }\n",
              "    80% {\n",
              "      border-color: transparent;\n",
              "      border-right-color: var(--fill-color);\n",
              "      border-bottom-color: var(--fill-color);\n",
              "    }\n",
              "    90% {\n",
              "      border-color: transparent;\n",
              "      border-bottom-color: var(--fill-color);\n",
              "    }\n",
              "  }\n",
              "</style>\n",
              "\n",
              "  <script>\n",
              "    async function quickchart(key) {\n",
              "      const quickchartButtonEl =\n",
              "        document.querySelector('#' + key + ' button');\n",
              "      quickchartButtonEl.disabled = true;  // To prevent multiple clicks.\n",
              "      quickchartButtonEl.classList.add('colab-df-spinner');\n",
              "      try {\n",
              "        const charts = await google.colab.kernel.invokeFunction(\n",
              "            'suggestCharts', [key], {});\n",
              "      } catch (error) {\n",
              "        console.error('Error during call to suggestCharts:', error);\n",
              "      }\n",
              "      quickchartButtonEl.classList.remove('colab-df-spinner');\n",
              "      quickchartButtonEl.classList.add('colab-df-quickchart-complete');\n",
              "    }\n",
              "    (() => {\n",
              "      let quickchartButtonEl =\n",
              "        document.querySelector('#df-be6b1ea5-6575-4e3f-9754-b471b54cb03d button');\n",
              "      quickchartButtonEl.style.display =\n",
              "        google.colab.kernel.accessAllowed ? 'block' : 'none';\n",
              "    })();\n",
              "  </script>\n",
              "</div>\n",
              "\n",
              "    </div>\n",
              "  </div>\n"
            ],
            "application/vnd.google.colaboratory.intrinsic+json": {
              "type": "dataframe",
              "variable_name": "df",
              "summary": "{\n  \"name\": \"df\",\n  \"rows\": 9538,\n  \"fields\": [\n    {\n      \"column\": \"Age\",\n      \"properties\": {\n        \"dtype\": \"number\",\n        \"std\": 20,\n        \"min\": 18,\n        \"max\": 89,\n        \"num_unique_values\": 72,\n        \"samples\": [\n          38,\n          85,\n          59\n        ],\n        \"semantic_type\": \"\",\n        \"description\": \"\"\n      }\n    },\n    {\n      \"column\": \"Pregnancies\",\n      \"properties\": {\n        \"dtype\": \"number\",\n        \"std\": 4,\n        \"min\": 0,\n        \"max\": 16,\n        \"num_unique_values\": 17,\n        \"samples\": [\n          5,\n          1,\n          16\n        ],\n        \"semantic_type\": \"\",\n        \"description\": \"\"\n      }\n    },\n    {\n      \"column\": \"BMI\",\n      \"properties\": {\n        \"dtype\": \"number\",\n        \"std\": 5.927954732374203,\n        \"min\": 15.0,\n        \"max\": 49.66,\n        \"num_unique_values\": 2378,\n        \"samples\": [\n          36.05,\n          22.71,\n          29.48\n        ],\n        \"semantic_type\": \"\",\n        \"description\": \"\"\n      }\n    },\n    {\n      \"column\": \"Glucose\",\n      \"properties\": {\n        \"dtype\": \"number\",\n        \"std\": 21.918589644226522,\n        \"min\": 50.0,\n        \"max\": 207.2,\n        \"num_unique_values\": 1098,\n        \"samples\": [\n          143.6,\n          106.0,\n          133.3\n        ],\n        \"semantic_type\": \"\",\n        \"description\": \"\"\n      }\n    },\n    {\n      \"column\": \"BloodPressure\",\n      \"properties\": {\n        \"dtype\": \"number\",\n        \"std\": 14.12347957887136,\n        \"min\": 60.0,\n        \"max\": 138.0,\n        \"num_unique_values\": 77,\n        \"samples\": [\n          74.0,\n          85.0,\n          93.0\n        ],\n        \"semantic_type\": \"\",\n        \"description\": \"\"\n      }\n    },\n    {\n      \"column\": \"HbA1c\",\n      \"properties\": {\n        \"dtype\": \"number\",\n        \"std\": 0.4763947518652073,\n        \"min\": 4.0,\n        \"max\": 6.9,\n        \"num_unique_values\": 28,\n        \"samples\": [\n          4.1,\n          6.5,\n          5.2\n        ],\n        \"semantic_type\": \"\",\n        \"description\": \"\"\n      }\n    },\n    {\n      \"column\": \"LDL\",\n      \"properties\": {\n        \"dtype\": \"number\",\n        \"std\": 29.911909664230937,\n        \"min\": -12.0,\n        \"max\": 202.2,\n        \"num_unique_values\": 1457,\n        \"samples\": [\n          139.9,\n          55.0,\n          104.5\n        ],\n        \"semantic_type\": \"\",\n        \"description\": \"\"\n      }\n    },\n    {\n      \"column\": \"HDL\",\n      \"properties\": {\n        \"dtype\": \"number\",\n        \"std\": 15.242193544329657,\n        \"min\": -9.2,\n        \"max\": 107.8,\n        \"num_unique_values\": 832,\n        \"samples\": [\n          36.5,\n          101.8,\n          54.0\n        ],\n        \"semantic_type\": \"\",\n        \"description\": \"\"\n      }\n    },\n    {\n      \"column\": \"Triglycerides\",\n      \"properties\": {\n        \"dtype\": \"number\",\n        \"std\": 48.951627346960535,\n        \"min\": 50.0,\n        \"max\": 345.8,\n        \"num_unique_values\": 2046,\n        \"samples\": [\n          129.2,\n          196.4,\n          112.7\n        ],\n        \"semantic_type\": \"\",\n        \"description\": \"\"\n      }\n    },\n    {\n      \"column\": \"WaistCircumference\",\n      \"properties\": {\n        \"dtype\": \"number\",\n        \"std\": 15.59446839415095,\n        \"min\": 40.3,\n        \"max\": 163.0,\n        \"num_unique_values\": 839,\n        \"samples\": [\n          94.0,\n          139.3,\n          81.1\n        ],\n        \"semantic_type\": \"\",\n        \"description\": \"\"\n      }\n    },\n    {\n      \"column\": \"HipCircumference\",\n      \"properties\": {\n        \"dtype\": \"number\",\n        \"std\": 13.438826909111093,\n        \"min\": 54.8,\n        \"max\": 156.6,\n        \"num_unique_values\": 742,\n        \"samples\": [\n          105.1,\n          96.5,\n          88.5\n        ],\n        \"semantic_type\": \"\",\n        \"description\": \"\"\n      }\n    },\n    {\n      \"column\": \"WHR\",\n      \"properties\": {\n        \"dtype\": \"number\",\n        \"std\": 0.14082804481695735,\n        \"min\": 0.42,\n        \"max\": 1.49,\n        \"num_unique_values\": 102,\n        \"samples\": [\n          0.98,\n          0.49,\n          0.64\n        ],\n        \"semantic_type\": \"\",\n        \"description\": \"\"\n      }\n    },\n    {\n      \"column\": \"FamilyHistory\",\n      \"properties\": {\n        \"dtype\": \"number\",\n        \"std\": 0,\n        \"min\": 0,\n        \"max\": 1,\n        \"num_unique_values\": 2,\n        \"samples\": [\n          1,\n          0\n        ],\n        \"semantic_type\": \"\",\n        \"description\": \"\"\n      }\n    },\n    {\n      \"column\": \"DietType\",\n      \"properties\": {\n        \"dtype\": \"number\",\n        \"std\": 0,\n        \"min\": 0,\n        \"max\": 2,\n        \"num_unique_values\": 3,\n        \"samples\": [\n          0,\n          1\n        ],\n        \"semantic_type\": \"\",\n        \"description\": \"\"\n      }\n    },\n    {\n      \"column\": \"Hypertension\",\n      \"properties\": {\n        \"dtype\": \"number\",\n        \"std\": 0,\n        \"min\": 0,\n        \"max\": 1,\n        \"num_unique_values\": 2,\n        \"samples\": [\n          1,\n          0\n        ],\n        \"semantic_type\": \"\",\n        \"description\": \"\"\n      }\n    },\n    {\n      \"column\": \"MedicationUse\",\n      \"properties\": {\n        \"dtype\": \"number\",\n        \"std\": 0,\n        \"min\": 0,\n        \"max\": 1,\n        \"num_unique_values\": 2,\n        \"samples\": [\n          0,\n          1\n        ],\n        \"semantic_type\": \"\",\n        \"description\": \"\"\n      }\n    },\n    {\n      \"column\": \"Outcome\",\n      \"properties\": {\n        \"dtype\": \"number\",\n        \"std\": 0,\n        \"min\": 0,\n        \"max\": 1,\n        \"num_unique_values\": 2,\n        \"samples\": [\n          1,\n          0\n        ],\n        \"semantic_type\": \"\",\n        \"description\": \"\"\n      }\n    }\n  ]\n}"
            }
          },
          "metadata": {},
          "execution_count": 3
        }
      ]
    },
    {
      "cell_type": "code",
      "source": [
        "df.columns"
      ],
      "metadata": {
        "colab": {
          "base_uri": "https://localhost:8080/"
        },
        "id": "13wvIvdsULeA",
        "outputId": "01240069-3a82-4032-f4a0-e1f14413e2a8"
      },
      "execution_count": null,
      "outputs": [
        {
          "output_type": "execute_result",
          "data": {
            "text/plain": [
              "Index(['Age', 'Pregnancies', 'BMI', 'Glucose', 'BloodPressure', 'HbA1c', 'LDL',\n",
              "       'HDL', 'Triglycerides', 'WaistCircumference', 'HipCircumference', 'WHR',\n",
              "       'FamilyHistory', 'DietType', 'Hypertension', 'MedicationUse',\n",
              "       'Outcome'],\n",
              "      dtype='object')"
            ]
          },
          "metadata": {},
          "execution_count": 4
        }
      ]
    },
    {
      "cell_type": "code",
      "source": [
        "df.describe()"
      ],
      "metadata": {
        "id": "Tr7pIiEw3Ftm",
        "colab": {
          "base_uri": "https://localhost:8080/",
          "height": 320
        },
        "outputId": "e5da2a75-adc9-4a18-855f-c577b1ceadcd"
      },
      "execution_count": null,
      "outputs": [
        {
          "output_type": "execute_result",
          "data": {
            "text/plain": [
              "               Age  Pregnancies          BMI      Glucose  BloodPressure  \\\n",
              "count  9538.000000  9538.000000  9538.000000  9538.000000    9538.000000   \n",
              "mean     53.577584     7.986161    27.052364   106.104183      84.475781   \n",
              "std      20.764651     4.933469     5.927955    21.918590      14.123480   \n",
              "min      18.000000     0.000000    15.000000    50.000000      60.000000   \n",
              "25%      36.000000     4.000000    22.870000    91.000000      74.000000   \n",
              "50%      53.000000     8.000000    27.050000   106.000000      84.000000   \n",
              "75%      72.000000    12.000000    31.180000   121.000000      94.000000   \n",
              "max      89.000000    16.000000    49.660000   207.200000     138.000000   \n",
              "\n",
              "             HbA1c          LDL          HDL  Triglycerides  \\\n",
              "count  9538.000000  9538.000000  9538.000000    9538.000000   \n",
              "mean      4.650661   100.133456    49.953418     151.147746   \n",
              "std       0.476395    29.911910    15.242194      48.951627   \n",
              "min       4.000000   -12.000000    -9.200000      50.000000   \n",
              "25%       4.300000    80.100000    39.700000     117.200000   \n",
              "50%       4.600000    99.900000    50.200000     150.550000   \n",
              "75%       5.000000   120.200000    60.200000     185.100000   \n",
              "max       6.900000   202.200000   107.800000     345.800000   \n",
              "\n",
              "       WaistCircumference  HipCircumference          WHR  FamilyHistory  \\\n",
              "count         9538.000000       9538.000000  9538.000000    9538.000000   \n",
              "mean            93.951678        103.060621     0.917400       0.302474   \n",
              "std             15.594468         13.438827     0.140828       0.459354   \n",
              "min             40.300000         54.800000     0.420000       0.000000   \n",
              "25%             83.400000         94.000000     0.820000       0.000000   \n",
              "50%             93.800000        103.200000     0.910000       0.000000   \n",
              "75%            104.600000        112.100000     1.010000       1.000000   \n",
              "max            163.000000        156.600000     1.490000       1.000000   \n",
              "\n",
              "          DietType  Hypertension  MedicationUse      Outcome  \n",
              "count  9538.000000   9538.000000    9538.000000  9538.000000  \n",
              "mean      0.486161      0.001048       0.405012     0.344097  \n",
              "std       0.661139      0.032364       0.490920     0.475098  \n",
              "min       0.000000      0.000000       0.000000     0.000000  \n",
              "25%       0.000000      0.000000       0.000000     0.000000  \n",
              "50%       0.000000      0.000000       0.000000     0.000000  \n",
              "75%       1.000000      0.000000       1.000000     1.000000  \n",
              "max       2.000000      1.000000       1.000000     1.000000  "
            ],
            "text/html": [
              "\n",
              "  <div id=\"df-b2f4f902-fc0d-47dd-8c0e-ed56a6b6039c\" class=\"colab-df-container\">\n",
              "    <div>\n",
              "<style scoped>\n",
              "    .dataframe tbody tr th:only-of-type {\n",
              "        vertical-align: middle;\n",
              "    }\n",
              "\n",
              "    .dataframe tbody tr th {\n",
              "        vertical-align: top;\n",
              "    }\n",
              "\n",
              "    .dataframe thead th {\n",
              "        text-align: right;\n",
              "    }\n",
              "</style>\n",
              "<table border=\"1\" class=\"dataframe\">\n",
              "  <thead>\n",
              "    <tr style=\"text-align: right;\">\n",
              "      <th></th>\n",
              "      <th>Age</th>\n",
              "      <th>Pregnancies</th>\n",
              "      <th>BMI</th>\n",
              "      <th>Glucose</th>\n",
              "      <th>BloodPressure</th>\n",
              "      <th>HbA1c</th>\n",
              "      <th>LDL</th>\n",
              "      <th>HDL</th>\n",
              "      <th>Triglycerides</th>\n",
              "      <th>WaistCircumference</th>\n",
              "      <th>HipCircumference</th>\n",
              "      <th>WHR</th>\n",
              "      <th>FamilyHistory</th>\n",
              "      <th>DietType</th>\n",
              "      <th>Hypertension</th>\n",
              "      <th>MedicationUse</th>\n",
              "      <th>Outcome</th>\n",
              "    </tr>\n",
              "  </thead>\n",
              "  <tbody>\n",
              "    <tr>\n",
              "      <th>count</th>\n",
              "      <td>9538.000000</td>\n",
              "      <td>9538.000000</td>\n",
              "      <td>9538.000000</td>\n",
              "      <td>9538.000000</td>\n",
              "      <td>9538.000000</td>\n",
              "      <td>9538.000000</td>\n",
              "      <td>9538.000000</td>\n",
              "      <td>9538.000000</td>\n",
              "      <td>9538.000000</td>\n",
              "      <td>9538.000000</td>\n",
              "      <td>9538.000000</td>\n",
              "      <td>9538.000000</td>\n",
              "      <td>9538.000000</td>\n",
              "      <td>9538.000000</td>\n",
              "      <td>9538.000000</td>\n",
              "      <td>9538.000000</td>\n",
              "      <td>9538.000000</td>\n",
              "    </tr>\n",
              "    <tr>\n",
              "      <th>mean</th>\n",
              "      <td>53.577584</td>\n",
              "      <td>7.986161</td>\n",
              "      <td>27.052364</td>\n",
              "      <td>106.104183</td>\n",
              "      <td>84.475781</td>\n",
              "      <td>4.650661</td>\n",
              "      <td>100.133456</td>\n",
              "      <td>49.953418</td>\n",
              "      <td>151.147746</td>\n",
              "      <td>93.951678</td>\n",
              "      <td>103.060621</td>\n",
              "      <td>0.917400</td>\n",
              "      <td>0.302474</td>\n",
              "      <td>0.486161</td>\n",
              "      <td>0.001048</td>\n",
              "      <td>0.405012</td>\n",
              "      <td>0.344097</td>\n",
              "    </tr>\n",
              "    <tr>\n",
              "      <th>std</th>\n",
              "      <td>20.764651</td>\n",
              "      <td>4.933469</td>\n",
              "      <td>5.927955</td>\n",
              "      <td>21.918590</td>\n",
              "      <td>14.123480</td>\n",
              "      <td>0.476395</td>\n",
              "      <td>29.911910</td>\n",
              "      <td>15.242194</td>\n",
              "      <td>48.951627</td>\n",
              "      <td>15.594468</td>\n",
              "      <td>13.438827</td>\n",
              "      <td>0.140828</td>\n",
              "      <td>0.459354</td>\n",
              "      <td>0.661139</td>\n",
              "      <td>0.032364</td>\n",
              "      <td>0.490920</td>\n",
              "      <td>0.475098</td>\n",
              "    </tr>\n",
              "    <tr>\n",
              "      <th>min</th>\n",
              "      <td>18.000000</td>\n",
              "      <td>0.000000</td>\n",
              "      <td>15.000000</td>\n",
              "      <td>50.000000</td>\n",
              "      <td>60.000000</td>\n",
              "      <td>4.000000</td>\n",
              "      <td>-12.000000</td>\n",
              "      <td>-9.200000</td>\n",
              "      <td>50.000000</td>\n",
              "      <td>40.300000</td>\n",
              "      <td>54.800000</td>\n",
              "      <td>0.420000</td>\n",
              "      <td>0.000000</td>\n",
              "      <td>0.000000</td>\n",
              "      <td>0.000000</td>\n",
              "      <td>0.000000</td>\n",
              "      <td>0.000000</td>\n",
              "    </tr>\n",
              "    <tr>\n",
              "      <th>25%</th>\n",
              "      <td>36.000000</td>\n",
              "      <td>4.000000</td>\n",
              "      <td>22.870000</td>\n",
              "      <td>91.000000</td>\n",
              "      <td>74.000000</td>\n",
              "      <td>4.300000</td>\n",
              "      <td>80.100000</td>\n",
              "      <td>39.700000</td>\n",
              "      <td>117.200000</td>\n",
              "      <td>83.400000</td>\n",
              "      <td>94.000000</td>\n",
              "      <td>0.820000</td>\n",
              "      <td>0.000000</td>\n",
              "      <td>0.000000</td>\n",
              "      <td>0.000000</td>\n",
              "      <td>0.000000</td>\n",
              "      <td>0.000000</td>\n",
              "    </tr>\n",
              "    <tr>\n",
              "      <th>50%</th>\n",
              "      <td>53.000000</td>\n",
              "      <td>8.000000</td>\n",
              "      <td>27.050000</td>\n",
              "      <td>106.000000</td>\n",
              "      <td>84.000000</td>\n",
              "      <td>4.600000</td>\n",
              "      <td>99.900000</td>\n",
              "      <td>50.200000</td>\n",
              "      <td>150.550000</td>\n",
              "      <td>93.800000</td>\n",
              "      <td>103.200000</td>\n",
              "      <td>0.910000</td>\n",
              "      <td>0.000000</td>\n",
              "      <td>0.000000</td>\n",
              "      <td>0.000000</td>\n",
              "      <td>0.000000</td>\n",
              "      <td>0.000000</td>\n",
              "    </tr>\n",
              "    <tr>\n",
              "      <th>75%</th>\n",
              "      <td>72.000000</td>\n",
              "      <td>12.000000</td>\n",
              "      <td>31.180000</td>\n",
              "      <td>121.000000</td>\n",
              "      <td>94.000000</td>\n",
              "      <td>5.000000</td>\n",
              "      <td>120.200000</td>\n",
              "      <td>60.200000</td>\n",
              "      <td>185.100000</td>\n",
              "      <td>104.600000</td>\n",
              "      <td>112.100000</td>\n",
              "      <td>1.010000</td>\n",
              "      <td>1.000000</td>\n",
              "      <td>1.000000</td>\n",
              "      <td>0.000000</td>\n",
              "      <td>1.000000</td>\n",
              "      <td>1.000000</td>\n",
              "    </tr>\n",
              "    <tr>\n",
              "      <th>max</th>\n",
              "      <td>89.000000</td>\n",
              "      <td>16.000000</td>\n",
              "      <td>49.660000</td>\n",
              "      <td>207.200000</td>\n",
              "      <td>138.000000</td>\n",
              "      <td>6.900000</td>\n",
              "      <td>202.200000</td>\n",
              "      <td>107.800000</td>\n",
              "      <td>345.800000</td>\n",
              "      <td>163.000000</td>\n",
              "      <td>156.600000</td>\n",
              "      <td>1.490000</td>\n",
              "      <td>1.000000</td>\n",
              "      <td>2.000000</td>\n",
              "      <td>1.000000</td>\n",
              "      <td>1.000000</td>\n",
              "      <td>1.000000</td>\n",
              "    </tr>\n",
              "  </tbody>\n",
              "</table>\n",
              "</div>\n",
              "    <div class=\"colab-df-buttons\">\n",
              "\n",
              "  <div class=\"colab-df-container\">\n",
              "    <button class=\"colab-df-convert\" onclick=\"convertToInteractive('df-b2f4f902-fc0d-47dd-8c0e-ed56a6b6039c')\"\n",
              "            title=\"Convert this dataframe to an interactive table.\"\n",
              "            style=\"display:none;\">\n",
              "\n",
              "  <svg xmlns=\"http://www.w3.org/2000/svg\" height=\"24px\" viewBox=\"0 -960 960 960\">\n",
              "    <path d=\"M120-120v-720h720v720H120Zm60-500h600v-160H180v160Zm220 220h160v-160H400v160Zm0 220h160v-160H400v160ZM180-400h160v-160H180v160Zm440 0h160v-160H620v160ZM180-180h160v-160H180v160Zm440 0h160v-160H620v160Z\"/>\n",
              "  </svg>\n",
              "    </button>\n",
              "\n",
              "  <style>\n",
              "    .colab-df-container {\n",
              "      display:flex;\n",
              "      gap: 12px;\n",
              "    }\n",
              "\n",
              "    .colab-df-convert {\n",
              "      background-color: #E8F0FE;\n",
              "      border: none;\n",
              "      border-radius: 50%;\n",
              "      cursor: pointer;\n",
              "      display: none;\n",
              "      fill: #1967D2;\n",
              "      height: 32px;\n",
              "      padding: 0 0 0 0;\n",
              "      width: 32px;\n",
              "    }\n",
              "\n",
              "    .colab-df-convert:hover {\n",
              "      background-color: #E2EBFA;\n",
              "      box-shadow: 0px 1px 2px rgba(60, 64, 67, 0.3), 0px 1px 3px 1px rgba(60, 64, 67, 0.15);\n",
              "      fill: #174EA6;\n",
              "    }\n",
              "\n",
              "    .colab-df-buttons div {\n",
              "      margin-bottom: 4px;\n",
              "    }\n",
              "\n",
              "    [theme=dark] .colab-df-convert {\n",
              "      background-color: #3B4455;\n",
              "      fill: #D2E3FC;\n",
              "    }\n",
              "\n",
              "    [theme=dark] .colab-df-convert:hover {\n",
              "      background-color: #434B5C;\n",
              "      box-shadow: 0px 1px 3px 1px rgba(0, 0, 0, 0.15);\n",
              "      filter: drop-shadow(0px 1px 2px rgba(0, 0, 0, 0.3));\n",
              "      fill: #FFFFFF;\n",
              "    }\n",
              "  </style>\n",
              "\n",
              "    <script>\n",
              "      const buttonEl =\n",
              "        document.querySelector('#df-b2f4f902-fc0d-47dd-8c0e-ed56a6b6039c button.colab-df-convert');\n",
              "      buttonEl.style.display =\n",
              "        google.colab.kernel.accessAllowed ? 'block' : 'none';\n",
              "\n",
              "      async function convertToInteractive(key) {\n",
              "        const element = document.querySelector('#df-b2f4f902-fc0d-47dd-8c0e-ed56a6b6039c');\n",
              "        const dataTable =\n",
              "          await google.colab.kernel.invokeFunction('convertToInteractive',\n",
              "                                                    [key], {});\n",
              "        if (!dataTable) return;\n",
              "\n",
              "        const docLinkHtml = 'Like what you see? Visit the ' +\n",
              "          '<a target=\"_blank\" href=https://colab.research.google.com/notebooks/data_table.ipynb>data table notebook</a>'\n",
              "          + ' to learn more about interactive tables.';\n",
              "        element.innerHTML = '';\n",
              "        dataTable['output_type'] = 'display_data';\n",
              "        await google.colab.output.renderOutput(dataTable, element);\n",
              "        const docLink = document.createElement('div');\n",
              "        docLink.innerHTML = docLinkHtml;\n",
              "        element.appendChild(docLink);\n",
              "      }\n",
              "    </script>\n",
              "  </div>\n",
              "\n",
              "\n",
              "<div id=\"df-f0d9e6d3-4809-4f0c-a255-4a74e90efe04\">\n",
              "  <button class=\"colab-df-quickchart\" onclick=\"quickchart('df-f0d9e6d3-4809-4f0c-a255-4a74e90efe04')\"\n",
              "            title=\"Suggest charts\"\n",
              "            style=\"display:none;\">\n",
              "\n",
              "<svg xmlns=\"http://www.w3.org/2000/svg\" height=\"24px\"viewBox=\"0 0 24 24\"\n",
              "     width=\"24px\">\n",
              "    <g>\n",
              "        <path d=\"M19 3H5c-1.1 0-2 .9-2 2v14c0 1.1.9 2 2 2h14c1.1 0 2-.9 2-2V5c0-1.1-.9-2-2-2zM9 17H7v-7h2v7zm4 0h-2V7h2v10zm4 0h-2v-4h2v4z\"/>\n",
              "    </g>\n",
              "</svg>\n",
              "  </button>\n",
              "\n",
              "<style>\n",
              "  .colab-df-quickchart {\n",
              "      --bg-color: #E8F0FE;\n",
              "      --fill-color: #1967D2;\n",
              "      --hover-bg-color: #E2EBFA;\n",
              "      --hover-fill-color: #174EA6;\n",
              "      --disabled-fill-color: #AAA;\n",
              "      --disabled-bg-color: #DDD;\n",
              "  }\n",
              "\n",
              "  [theme=dark] .colab-df-quickchart {\n",
              "      --bg-color: #3B4455;\n",
              "      --fill-color: #D2E3FC;\n",
              "      --hover-bg-color: #434B5C;\n",
              "      --hover-fill-color: #FFFFFF;\n",
              "      --disabled-bg-color: #3B4455;\n",
              "      --disabled-fill-color: #666;\n",
              "  }\n",
              "\n",
              "  .colab-df-quickchart {\n",
              "    background-color: var(--bg-color);\n",
              "    border: none;\n",
              "    border-radius: 50%;\n",
              "    cursor: pointer;\n",
              "    display: none;\n",
              "    fill: var(--fill-color);\n",
              "    height: 32px;\n",
              "    padding: 0;\n",
              "    width: 32px;\n",
              "  }\n",
              "\n",
              "  .colab-df-quickchart:hover {\n",
              "    background-color: var(--hover-bg-color);\n",
              "    box-shadow: 0 1px 2px rgba(60, 64, 67, 0.3), 0 1px 3px 1px rgba(60, 64, 67, 0.15);\n",
              "    fill: var(--button-hover-fill-color);\n",
              "  }\n",
              "\n",
              "  .colab-df-quickchart-complete:disabled,\n",
              "  .colab-df-quickchart-complete:disabled:hover {\n",
              "    background-color: var(--disabled-bg-color);\n",
              "    fill: var(--disabled-fill-color);\n",
              "    box-shadow: none;\n",
              "  }\n",
              "\n",
              "  .colab-df-spinner {\n",
              "    border: 2px solid var(--fill-color);\n",
              "    border-color: transparent;\n",
              "    border-bottom-color: var(--fill-color);\n",
              "    animation:\n",
              "      spin 1s steps(1) infinite;\n",
              "  }\n",
              "\n",
              "  @keyframes spin {\n",
              "    0% {\n",
              "      border-color: transparent;\n",
              "      border-bottom-color: var(--fill-color);\n",
              "      border-left-color: var(--fill-color);\n",
              "    }\n",
              "    20% {\n",
              "      border-color: transparent;\n",
              "      border-left-color: var(--fill-color);\n",
              "      border-top-color: var(--fill-color);\n",
              "    }\n",
              "    30% {\n",
              "      border-color: transparent;\n",
              "      border-left-color: var(--fill-color);\n",
              "      border-top-color: var(--fill-color);\n",
              "      border-right-color: var(--fill-color);\n",
              "    }\n",
              "    40% {\n",
              "      border-color: transparent;\n",
              "      border-right-color: var(--fill-color);\n",
              "      border-top-color: var(--fill-color);\n",
              "    }\n",
              "    60% {\n",
              "      border-color: transparent;\n",
              "      border-right-color: var(--fill-color);\n",
              "    }\n",
              "    80% {\n",
              "      border-color: transparent;\n",
              "      border-right-color: var(--fill-color);\n",
              "      border-bottom-color: var(--fill-color);\n",
              "    }\n",
              "    90% {\n",
              "      border-color: transparent;\n",
              "      border-bottom-color: var(--fill-color);\n",
              "    }\n",
              "  }\n",
              "</style>\n",
              "\n",
              "  <script>\n",
              "    async function quickchart(key) {\n",
              "      const quickchartButtonEl =\n",
              "        document.querySelector('#' + key + ' button');\n",
              "      quickchartButtonEl.disabled = true;  // To prevent multiple clicks.\n",
              "      quickchartButtonEl.classList.add('colab-df-spinner');\n",
              "      try {\n",
              "        const charts = await google.colab.kernel.invokeFunction(\n",
              "            'suggestCharts', [key], {});\n",
              "      } catch (error) {\n",
              "        console.error('Error during call to suggestCharts:', error);\n",
              "      }\n",
              "      quickchartButtonEl.classList.remove('colab-df-spinner');\n",
              "      quickchartButtonEl.classList.add('colab-df-quickchart-complete');\n",
              "    }\n",
              "    (() => {\n",
              "      let quickchartButtonEl =\n",
              "        document.querySelector('#df-f0d9e6d3-4809-4f0c-a255-4a74e90efe04 button');\n",
              "      quickchartButtonEl.style.display =\n",
              "        google.colab.kernel.accessAllowed ? 'block' : 'none';\n",
              "    })();\n",
              "  </script>\n",
              "</div>\n",
              "\n",
              "    </div>\n",
              "  </div>\n"
            ],
            "application/vnd.google.colaboratory.intrinsic+json": {
              "type": "dataframe",
              "summary": "{\n  \"name\": \"df\",\n  \"rows\": 8,\n  \"fields\": [\n    {\n      \"column\": \"Age\",\n      \"properties\": {\n        \"dtype\": \"number\",\n        \"std\": 3354.9884903630605,\n        \"min\": 18.0,\n        \"max\": 9538.0,\n        \"num_unique_values\": 8,\n        \"samples\": [\n          53.577584399245126,\n          53.0,\n          9538.0\n        ],\n        \"semantic_type\": \"\",\n        \"description\": \"\"\n      }\n    },\n    {\n      \"column\": \"Pregnancies\",\n      \"properties\": {\n        \"dtype\": \"number\",\n        \"std\": 3369.5229569020853,\n        \"min\": 0.0,\n        \"max\": 9538.0,\n        \"num_unique_values\": 8,\n        \"samples\": [\n          7.986160620675194,\n          8.0,\n          9538.0\n        ],\n        \"semantic_type\": \"\",\n        \"description\": \"\"\n      }\n    },\n    {\n      \"column\": \"BMI\",\n      \"properties\": {\n        \"dtype\": \"number\",\n        \"std\": 3363.1882984368,\n        \"min\": 5.927954732374203,\n        \"max\": 9538.0,\n        \"num_unique_values\": 8,\n        \"samples\": [\n          27.05236422730132,\n          27.05,\n          9538.0\n        ],\n        \"semantic_type\": \"\",\n        \"description\": \"\"\n      }\n    },\n    {\n      \"column\": \"Glucose\",\n      \"properties\": {\n        \"dtype\": \"number\",\n        \"std\": 3337.1168453521045,\n        \"min\": 21.918589644226522,\n        \"max\": 9538.0,\n        \"num_unique_values\": 8,\n        \"samples\": [\n          106.10418326693227,\n          106.0,\n          9538.0\n        ],\n        \"semantic_type\": \"\",\n        \"description\": \"\"\n      }\n    },\n    {\n      \"column\": \"BloodPressure\",\n      \"properties\": {\n        \"dtype\": \"number\",\n        \"std\": 3344.66218771705,\n        \"min\": 14.12347957887136,\n        \"max\": 9538.0,\n        \"num_unique_values\": 8,\n        \"samples\": [\n          84.47578108618158,\n          84.0,\n          9538.0\n        ],\n        \"semantic_type\": \"\",\n        \"description\": \"\"\n      }\n    },\n    {\n      \"column\": \"HbA1c\",\n      \"properties\": {\n        \"dtype\": \"number\",\n        \"std\": 3370.6811647060667,\n        \"min\": 0.4763947518652073,\n        \"max\": 9538.0,\n        \"num_unique_values\": 8,\n        \"samples\": [\n          4.650660515831412,\n          4.6,\n          9538.0\n        ],\n        \"semantic_type\": \"\",\n        \"description\": \"\"\n      }\n    },\n    {\n      \"column\": \"LDL\",\n      \"properties\": {\n        \"dtype\": \"number\",\n        \"std\": 3341.4493604950267,\n        \"min\": -12.0,\n        \"max\": 9538.0,\n        \"num_unique_values\": 8,\n        \"samples\": [\n          100.1334556510799,\n          99.9,\n          9538.0\n        ],\n        \"semantic_type\": \"\",\n        \"description\": \"\"\n      }\n    },\n    {\n      \"column\": \"HDL\",\n      \"properties\": {\n        \"dtype\": \"number\",\n        \"std\": 3356.510016287265,\n        \"min\": -9.2,\n        \"max\": 9538.0,\n        \"num_unique_values\": 8,\n        \"samples\": [\n          49.9534179073181,\n          50.2,\n          9538.0\n        ],\n        \"semantic_type\": \"\",\n        \"description\": \"\"\n      }\n    },\n    {\n      \"column\": \"Triglycerides\",\n      \"properties\": {\n        \"dtype\": \"number\",\n        \"std\": 3320.531775592026,\n        \"min\": 48.951627346960535,\n        \"max\": 9538.0,\n        \"num_unique_values\": 8,\n        \"samples\": [\n          151.1477458586706,\n          150.55,\n          9538.0\n        ],\n        \"semantic_type\": \"\",\n        \"description\": \"\"\n      }\n    },\n    {\n      \"column\": \"WaistCircumference\",\n      \"properties\": {\n        \"dtype\": \"number\",\n        \"std\": 3342.4453754572814,\n        \"min\": 15.59446839415095,\n        \"max\": 9538.0,\n        \"num_unique_values\": 8,\n        \"samples\": [\n          93.95167750052423,\n          93.8,\n          9538.0\n        ],\n        \"semantic_type\": \"\",\n        \"description\": \"\"\n      }\n    },\n    {\n      \"column\": \"HipCircumference\",\n      \"properties\": {\n        \"dtype\": \"number\",\n        \"std\": 3340.2735103760087,\n        \"min\": 13.438826909111093,\n        \"max\": 9538.0,\n        \"num_unique_values\": 8,\n        \"samples\": [\n          103.06062067519396,\n          103.2,\n          9538.0\n        ],\n        \"semantic_type\": \"\",\n        \"description\": \"\"\n      }\n    },\n    {\n      \"column\": \"WHR\",\n      \"properties\": {\n        \"dtype\": \"number\",\n        \"std\": 3371.903954234991,\n        \"min\": 0.14082804481695735,\n        \"max\": 9538.0,\n        \"num_unique_values\": 8,\n        \"samples\": [\n          0.9173998741874607,\n          0.91,\n          9538.0\n        ],\n        \"semantic_type\": \"\",\n        \"description\": \"\"\n      }\n    },\n    {\n      \"column\": \"FamilyHistory\",\n      \"properties\": {\n        \"dtype\": \"number\",\n        \"std\": 3372.0527717948694,\n        \"min\": 0.0,\n        \"max\": 9538.0,\n        \"num_unique_values\": 5,\n        \"samples\": [\n          0.3024743132732229,\n          1.0,\n          0.4593535955248134\n        ],\n        \"semantic_type\": \"\",\n        \"description\": \"\"\n      }\n    },\n    {\n      \"column\": \"DietType\",\n      \"properties\": {\n        \"dtype\": \"number\",\n        \"std\": 3371.9828373263776,\n        \"min\": 0.0,\n        \"max\": 9538.0,\n        \"num_unique_values\": 6,\n        \"samples\": [\n          9538.0,\n          0.48616062067519394,\n          2.0\n        ],\n        \"semantic_type\": \"\",\n        \"description\": \"\"\n      }\n    },\n    {\n      \"column\": \"Hypertension\",\n      \"properties\": {\n        \"dtype\": \"number\",\n        \"std\": 3372.1400622255064,\n        \"min\": 0.0,\n        \"max\": 9538.0,\n        \"num_unique_values\": 5,\n        \"samples\": [\n          0.0010484378276368212,\n          1.0,\n          0.03236430787477857\n        ],\n        \"semantic_type\": \"\",\n        \"description\": \"\"\n      }\n    },\n    {\n      \"column\": \"MedicationUse\",\n      \"properties\": {\n        \"dtype\": \"number\",\n        \"std\": 3372.0459984145373,\n        \"min\": 0.0,\n        \"max\": 9538.0,\n        \"num_unique_values\": 5,\n        \"samples\": [\n          0.405011532816104,\n          1.0,\n          0.490920012539188\n        ],\n        \"semantic_type\": \"\",\n        \"description\": \"\"\n      }\n    },\n    {\n      \"column\": \"Outcome\",\n      \"properties\": {\n        \"dtype\": \"number\",\n        \"std\": 3372.049874222395,\n        \"min\": 0.0,\n        \"max\": 9538.0,\n        \"num_unique_values\": 5,\n        \"samples\": [\n          0.3440972950304047,\n          1.0,\n          0.47509789697845783\n        ],\n        \"semantic_type\": \"\",\n        \"description\": \"\"\n      }\n    }\n  ]\n}"
            }
          },
          "metadata": {},
          "execution_count": 5
        }
      ]
    },
    {
      "cell_type": "code",
      "source": [
        "df.info()"
      ],
      "metadata": {
        "id": "XQCXpNJQ3Md_",
        "colab": {
          "base_uri": "https://localhost:8080/"
        },
        "outputId": "e488ca41-4029-4fd7-cbd7-1741fa40a75d"
      },
      "execution_count": null,
      "outputs": [
        {
          "output_type": "stream",
          "name": "stdout",
          "text": [
            "<class 'pandas.core.frame.DataFrame'>\n",
            "RangeIndex: 9538 entries, 0 to 9537\n",
            "Data columns (total 17 columns):\n",
            " #   Column              Non-Null Count  Dtype  \n",
            "---  ------              --------------  -----  \n",
            " 0   Age                 9538 non-null   int64  \n",
            " 1   Pregnancies         9538 non-null   int64  \n",
            " 2   BMI                 9538 non-null   float64\n",
            " 3   Glucose             9538 non-null   float64\n",
            " 4   BloodPressure       9538 non-null   float64\n",
            " 5   HbA1c               9538 non-null   float64\n",
            " 6   LDL                 9538 non-null   float64\n",
            " 7   HDL                 9538 non-null   float64\n",
            " 8   Triglycerides       9538 non-null   float64\n",
            " 9   WaistCircumference  9538 non-null   float64\n",
            " 10  HipCircumference    9538 non-null   float64\n",
            " 11  WHR                 9538 non-null   float64\n",
            " 12  FamilyHistory       9538 non-null   int64  \n",
            " 13  DietType            9538 non-null   int64  \n",
            " 14  Hypertension        9538 non-null   int64  \n",
            " 15  MedicationUse       9538 non-null   int64  \n",
            " 16  Outcome             9538 non-null   int64  \n",
            "dtypes: float64(10), int64(7)\n",
            "memory usage: 1.2 MB\n"
          ]
        }
      ]
    },
    {
      "cell_type": "code",
      "source": [
        "df.isnull().sum()"
      ],
      "metadata": {
        "id": "cWdRk_Za3TRs",
        "colab": {
          "base_uri": "https://localhost:8080/",
          "height": 617
        },
        "outputId": "8b6b0dec-8423-46c1-8cc9-9d29fe4eb432"
      },
      "execution_count": null,
      "outputs": [
        {
          "output_type": "execute_result",
          "data": {
            "text/plain": [
              "Age                   0\n",
              "Pregnancies           0\n",
              "BMI                   0\n",
              "Glucose               0\n",
              "BloodPressure         0\n",
              "HbA1c                 0\n",
              "LDL                   0\n",
              "HDL                   0\n",
              "Triglycerides         0\n",
              "WaistCircumference    0\n",
              "HipCircumference      0\n",
              "WHR                   0\n",
              "FamilyHistory         0\n",
              "DietType              0\n",
              "Hypertension          0\n",
              "MedicationUse         0\n",
              "Outcome               0\n",
              "dtype: int64"
            ],
            "text/html": [
              "<div>\n",
              "<style scoped>\n",
              "    .dataframe tbody tr th:only-of-type {\n",
              "        vertical-align: middle;\n",
              "    }\n",
              "\n",
              "    .dataframe tbody tr th {\n",
              "        vertical-align: top;\n",
              "    }\n",
              "\n",
              "    .dataframe thead th {\n",
              "        text-align: right;\n",
              "    }\n",
              "</style>\n",
              "<table border=\"1\" class=\"dataframe\">\n",
              "  <thead>\n",
              "    <tr style=\"text-align: right;\">\n",
              "      <th></th>\n",
              "      <th>0</th>\n",
              "    </tr>\n",
              "  </thead>\n",
              "  <tbody>\n",
              "    <tr>\n",
              "      <th>Age</th>\n",
              "      <td>0</td>\n",
              "    </tr>\n",
              "    <tr>\n",
              "      <th>Pregnancies</th>\n",
              "      <td>0</td>\n",
              "    </tr>\n",
              "    <tr>\n",
              "      <th>BMI</th>\n",
              "      <td>0</td>\n",
              "    </tr>\n",
              "    <tr>\n",
              "      <th>Glucose</th>\n",
              "      <td>0</td>\n",
              "    </tr>\n",
              "    <tr>\n",
              "      <th>BloodPressure</th>\n",
              "      <td>0</td>\n",
              "    </tr>\n",
              "    <tr>\n",
              "      <th>HbA1c</th>\n",
              "      <td>0</td>\n",
              "    </tr>\n",
              "    <tr>\n",
              "      <th>LDL</th>\n",
              "      <td>0</td>\n",
              "    </tr>\n",
              "    <tr>\n",
              "      <th>HDL</th>\n",
              "      <td>0</td>\n",
              "    </tr>\n",
              "    <tr>\n",
              "      <th>Triglycerides</th>\n",
              "      <td>0</td>\n",
              "    </tr>\n",
              "    <tr>\n",
              "      <th>WaistCircumference</th>\n",
              "      <td>0</td>\n",
              "    </tr>\n",
              "    <tr>\n",
              "      <th>HipCircumference</th>\n",
              "      <td>0</td>\n",
              "    </tr>\n",
              "    <tr>\n",
              "      <th>WHR</th>\n",
              "      <td>0</td>\n",
              "    </tr>\n",
              "    <tr>\n",
              "      <th>FamilyHistory</th>\n",
              "      <td>0</td>\n",
              "    </tr>\n",
              "    <tr>\n",
              "      <th>DietType</th>\n",
              "      <td>0</td>\n",
              "    </tr>\n",
              "    <tr>\n",
              "      <th>Hypertension</th>\n",
              "      <td>0</td>\n",
              "    </tr>\n",
              "    <tr>\n",
              "      <th>MedicationUse</th>\n",
              "      <td>0</td>\n",
              "    </tr>\n",
              "    <tr>\n",
              "      <th>Outcome</th>\n",
              "      <td>0</td>\n",
              "    </tr>\n",
              "  </tbody>\n",
              "</table>\n",
              "</div><br><label><b>dtype:</b> int64</label>"
            ]
          },
          "metadata": {},
          "execution_count": 7
        }
      ]
    },
    {
      "cell_type": "markdown",
      "source": [
        "*No missing values in our data set*"
      ],
      "metadata": {
        "id": "QRs8iLMI3iqb"
      }
    },
    {
      "cell_type": "code",
      "source": [
        "plt.figure(figsize=(10,8))\n",
        "sns.heatmap(df.corr(),annot = True , cmap = 'coolwarm',fmt=\".2f\")\n",
        "plt.show()"
      ],
      "metadata": {
        "colab": {
          "base_uri": "https://localhost:8080/",
          "height": 750
        },
        "id": "5cxB8qtvbKt9",
        "outputId": "acaf2b3a-2ce8-42cb-a766-555878799bbc"
      },
      "execution_count": null,
      "outputs": [
        {
          "output_type": "display_data",
          "data": {
            "text/plain": [
              "<Figure size 1000x800 with 2 Axes>"
            ],
            "image/png": "[encoded data removed]"
          },
          "metadata": {}
        }
      ]
    },
    {
      "cell_type": "markdown",
      "source": [
        "Comment :\n",
        "\n",
        "> The correlation graph shows strong correlations between : The Age vs Medication use, BMI vs Waist Circumference & Hip Circumference & Blood Pressure , Glucose vs HbA1c, Whr vs BMI & Waist Circumference Therefore let's analyse the VIF (variance inflation factor) to know exactly the features causing high multicolinearity and that must be adressed.\n",
        "\n",
        "\n"
      ],
      "metadata": {
        "id": "ORqTIUhLc6VP"
      }
    },
    {
      "cell_type": "code",
      "source": [
        "from statsmodels.stats.outliers_influence import variance_inflation_factor\n",
        "from statsmodels.tools.tools import add_constant\n",
        "\n",
        "X_const = add_constant(df)\n",
        "vif_data = pd.DataFrame()\n",
        "vif_data['Variable'] = X_const.columns\n",
        "vif_data['VIF'] = [variance_inflation_factor(X_const.values, i) for i in range(X_const.shape[1])]\n",
        "\n",
        "print(vif_data)"
      ],
      "metadata": {
        "colab": {
          "base_uri": "https://localhost:8080/"
        },
        "id": "xXs2gfRHf6Jh",
        "outputId": "1d35c78c-bd3c-42b8-ad44-970ba026caba"
      },
      "execution_count": null,
      "outputs": [
        {
          "output_type": "stream",
          "name": "stdout",
          "text": [
            "              Variable          VIF\n",
            "0                const  2403.544609\n",
            "1                  Age     4.501163\n",
            "2          Pregnancies     1.001551\n",
            "3                  BMI     4.558698\n",
            "4              Glucose     4.278792\n",
            "5        BloodPressure     2.183962\n",
            "6                HbA1c     3.036673\n",
            "7                  LDL     1.001934\n",
            "8                  HDL     1.002312\n",
            "9        Triglycerides     1.002128\n",
            "10  WaistCircumference    61.089348\n",
            "11    HipCircumference    39.383544\n",
            "12                 WHR    49.151055\n",
            "13       FamilyHistory     6.844479\n",
            "14            DietType     1.002909\n",
            "15        Hypertension     1.016222\n",
            "16       MedicationUse     3.672936\n",
            "17             Outcome     7.050586\n"
          ]
        }
      ]
    },
    {
      "cell_type": "markdown",
      "source": [
        "Comments :\n",
        "> The variance inflation factor is above 10 for three features reflecting high multicolinearity of some of our features. Since the logistic regression is sensitive to multicolinearity we should proceed it.\n",
        "\n",
        "\n"
      ],
      "metadata": {
        "id": "YfCjPoMk2-rS"
      }
    },
    {
      "cell_type": "markdown",
      "source": [
        "\n",
        "\n",
        "> Based on the above results  we can consider dropping the Waist and Hip circumference features since they create lot of multicolinearity in our data set and keep the BMI. The three features give informations about general obesity (BMI) and body fat in specific areas (Hip & Waist Circumferences) so we can keep the BMI since it gives general informations about the body fat.\n",
        "\n",
        "> For Glucose and HbA1c those are two important indicators for our data analysis so we will keep them for now for our analysis and check for overfitting later*\n",
        "\n"
      ],
      "metadata": {
        "id": "hxZNf5-GhDe0"
      }
    },
    {
      "cell_type": "markdown",
      "source": [
        "###Defining features and dependent variable"
      ],
      "metadata": {
        "id": "_utwxKLOdEj5"
      }
    },
    {
      "cell_type": "code",
      "source": [
        "X = df.drop(['WaistCircumference', 'HipCircumference', 'Outcome'], axis=1)\n",
        "X = np.array(X)\n",
        "y = df.iloc[:,-1].values"
      ],
      "metadata": {
        "id": "b7WryOJ6dM1y"
      },
      "execution_count": null,
      "outputs": []
    },
    {
      "cell_type": "code",
      "source": [
        "print(np.unique(y))"
      ],
      "metadata": {
        "colab": {
          "base_uri": "https://localhost:8080/"
        },
        "id": "2-AzsFu2eiDS",
        "outputId": "3c577c66-b719-4d57-aa11-eb6811b4d40d"
      },
      "execution_count": null,
      "outputs": [
        {
          "output_type": "stream",
          "name": "stdout",
          "text": [
            "[0 1]\n"
          ]
        }
      ]
    },
    {
      "cell_type": "markdown",
      "source": [
        "### Recheck for multicollinearity"
      ],
      "metadata": {
        "id": "T8ZUw3R_2SEO"
      }
    },
    {
      "cell_type": "code",
      "source": [
        "X_df = pd.DataFrame(X)\n",
        "X_const2 = add_constant(X_df)\n",
        "vif_data = pd.DataFrame()\n",
        "vif_data['Variable'] = X_const2.columns\n",
        "vif_data['VIF'] = [variance_inflation_factor(X_const2.values, i) for i in range(X_const2.shape[1])]\n",
        "\n",
        "print(vif_data)"
      ],
      "metadata": {
        "colab": {
          "base_uri": "https://localhost:8080/"
        },
        "id": "4M0c62Q_2QdI",
        "outputId": "83a79152-1b68-48c9-9cc0-2c1056c4bef9"
      },
      "execution_count": null,
      "outputs": [
        {
          "output_type": "stream",
          "name": "stdout",
          "text": [
            "   Variable         VIF\n",
            "0     const  220.712192\n",
            "1         0    4.499563\n",
            "2         1    1.001405\n",
            "3         2    2.467508\n",
            "4         3    4.158005\n",
            "5         4    2.183747\n",
            "6         5    3.018053\n",
            "7         6    1.001793\n",
            "8         7    1.002128\n",
            "9         8    1.001932\n",
            "10        9    1.069191\n",
            "11       10    1.001290\n",
            "12       11    1.002439\n",
            "13       12    1.013122\n",
            "14       13    3.670935\n"
          ]
        }
      ]
    },
    {
      "cell_type": "markdown",
      "source": [
        "Comment :\n",
        "\n",
        "> The new VIF results show that there is no severe  multicollinearity between our features , so we can now proceed on building our model.\n",
        "\n"
      ],
      "metadata": {
        "id": "mz4MvfhI2iRq"
      }
    },
    {
      "cell_type": "markdown",
      "source": [
        "## Splitting the data into training and test sets"
      ],
      "metadata": {
        "id": "24ak1-uTe61V"
      }
    },
    {
      "cell_type": "code",
      "source": [
        "from sklearn.model_selection import train_test_split\n",
        "X_train,X_test,y_train,y_test = train_test_split(X,y , random_state = 42, test_size = 0.2)\n"
      ],
      "metadata": {
        "id": "-GtzTiNpc7Q1"
      },
      "execution_count": null,
      "outputs": []
    },
    {
      "cell_type": "markdown",
      "source": [
        "## Scaling our features"
      ],
      "metadata": {
        "id": "s-Rcmojid8XE"
      }
    },
    {
      "cell_type": "code",
      "source": [
        "from sklearn.preprocessing import StandardScaler\n",
        "scaler = StandardScaler()\n",
        "X_train[:, :12] = scaler.fit_transform(X_train[:,:12])\n",
        "X_test[:, :12] = scaler.fit_transform(X_test[:,:12])"
      ],
      "metadata": {
        "id": "TDtkebMjeG3m"
      },
      "execution_count": null,
      "outputs": []
    },
    {
      "cell_type": "markdown",
      "source": [
        "Comment :\n",
        "\n",
        "> The scaling will be only done on the numeric variables , FamilyHistory , DietType, HyperTension , MedicationUse are categorical variables with binary values (0/1) so they need no scaling.\n",
        "\n"
      ],
      "metadata": {
        "id": "bkrd5ay8aW55"
      }
    },
    {
      "cell_type": "code",
      "source": [
        "print(X_train[:1,:])"
      ],
      "metadata": {
        "colab": {
          "base_uri": "https://localhost:8080/"
        },
        "id": "vxFNf0BfYjmH",
        "outputId": "d03fe129-8b38-47ab-a239-5e0f08fae855"
      },
      "execution_count": null,
      "outputs": [
        {
          "output_type": "stream",
          "name": "stdout",
          "text": [
            "[[-0.21174941  0.20378079  0.72443505  0.59144857  0.81423776  0.72828366\n",
            "  -0.25234789  0.39494309  0.5352753  -0.05638704 -0.66304045  0.79262647\n",
            "   0.          0.        ]]\n"
          ]
        }
      ]
    },
    {
      "cell_type": "markdown",
      "source": [
        "## Building our classification model : Logistic Regression Model"
      ],
      "metadata": {
        "id": "ffOT_XWCf8mM"
      }
    },
    {
      "cell_type": "markdown",
      "source": [
        "### Predicting the test set"
      ],
      "metadata": {
        "id": "agvDGyVY3kM7"
      }
    },
    {
      "cell_type": "code",
      "source": [
        "from sklearn.linear_model import LogisticRegression\n",
        "classifier = LogisticRegression()\n",
        "classifier.fit(X_train,y_train)\n",
        "y_pred = classifier.predict(X_test)"
      ],
      "metadata": {
        "id": "t0xNKXhWpQNl"
      },
      "execution_count": null,
      "outputs": []
    },
    {
      "cell_type": "code",
      "source": [
        "print(np.concatenate((y_pred.reshape(len(y_pred),1), y_test.reshape(len(y_test),1)),1))"
      ],
      "metadata": {
        "colab": {
          "base_uri": "https://localhost:8080/"
        },
        "id": "adsZkJPMpQqH",
        "outputId": "d9f45fea-cbe1-4a8e-8913-eec98802abec"
      },
      "execution_count": null,
      "outputs": [
        {
          "output_type": "stream",
          "name": "stdout",
          "text": [
            "[[0 0]\n",
            " [1 1]\n",
            " [0 0]\n",
            " ...\n",
            " [0 0]\n",
            " [1 1]\n",
            " [0 0]]\n"
          ]
        }
      ]
    },
    {
      "cell_type": "markdown",
      "source": [
        "Comment :\n",
        "\n",
        "> The results give  a first good impression of the accuracy of our model , but let's dive deeper into the accuracy test to check if our model is robust or not\n",
        "\n"
      ],
      "metadata": {
        "id": "nDSTldFE3g-V"
      }
    },
    {
      "cell_type": "markdown",
      "source": [
        "## Testing accuracy and making the confusion matrix"
      ],
      "metadata": {
        "id": "FvT5j4Ba8fu_"
      }
    },
    {
      "cell_type": "code",
      "source": [
        "from sklearn.metrics import confusion_matrix, accuracy_score\n",
        "cm = confusion_matrix(y_test,y_pred)\n",
        "accuracy = accuracy_score(y_test,y_pred)\n",
        "print(cm)\n",
        "print(accuracy)\n"
      ],
      "metadata": {
        "colab": {
          "base_uri": "https://localhost:8080/"
        },
        "id": "hQpcfup_8sYb",
        "outputId": "85c9bbfb-d395-410d-9cce-ad745142f741"
      },
      "execution_count": null,
      "outputs": [
        {
          "output_type": "stream",
          "name": "stdout",
          "text": [
            "[[1270    5]\n",
            " [   2  631]]\n",
            "0.9963312368972747\n"
          ]
        }
      ]
    },
    {
      "cell_type": "markdown",
      "source": [
        "Comments :\n",
        "\n",
        "\n",
        "> The results show that our  has an accuracy of 99.6% , with 1270 correctly predicted negative value( No diabetes predictions) , and 2  incorrect ones , and with 5 incorrect positive predicted value( Has diabete) vs 631 correct ones . So far our model is very robust.\n",
        "\n",
        "\n",
        "> **NB : I have previously performed the model while keeping the features : Waist and Hip circumferences , and the model had an accuracy of 99.04% vs the current one 99.6% with more incorrect predictions than after removing them. I did the same  by removing  the Glucose indicator , but the accuracy droped to 96% vs 99.6% with this fetaure kept, which means that this feature is very important and retain important informations in our analysis, to have a last check if keeping this feature won't occur overfitting in our predictions let's have a further test**\n",
        "\n"
      ],
      "metadata": {
        "id": "cbu_Lu4Fqtqu"
      }
    },
    {
      "cell_type": "markdown",
      "source": [
        "### Checking for overfitting and Cross validation test"
      ],
      "metadata": {
        "id": "1XJhs_XF7OHd"
      }
    },
    {
      "cell_type": "code",
      "source": [
        "from sklearn.model_selection import cross_val_score\n",
        "cv_scores = cross_val_score(classifier, X_train, y_train, cv=5, scoring='accuracy')\n",
        "y_train_pred = classifier.predict(X_train)\n",
        "accuracy_train = accuracy_score(y_train,y_train_pred)\n",
        "print(f\"Cross-Validation Scores: {cv_scores}\")\n",
        "print(f\"Mean CV Accuracy: {cv_scores.mean():.4f}\")\n",
        "print(f'Accuracy of test set : {accuracy}, Accuracy of train set : {accuracy_train}')"
      ],
      "metadata": {
        "colab": {
          "base_uri": "https://localhost:8080/"
        },
        "id": "mc4dVklI7Rhm",
        "outputId": "012b7c3b-6639-4d8a-cdc6-038c84541ee1"
      },
      "execution_count": null,
      "outputs": [
        {
          "output_type": "stream",
          "name": "stdout",
          "text": [
            "Cross-Validation Scores: [0.99410223 0.99082569 0.99475754 0.99279161 0.9921363 ]\n",
            "Mean CV Accuracy: 0.9929\n",
            "Accuracy of test set : 0.9905660377358491, Accuracy of train set : 0.9950196592398427\n"
          ]
        }
      ]
    },
    {
      "cell_type": "markdown",
      "source": [
        "#### Comments :\n",
        "\n",
        "> The mean cross-validation accuracy is around 99% confirming that the model performs consistently across different data splits\n",
        "\n",
        "> The small difference in accuracy between the train and test sets (0.13%) suggests that the model is generalizing well to unseen data and there is no overfitting of our model, our model is then so robust and perform very well even after keeping Glucose feature\n"
      ],
      "metadata": {
        "id": "On6tuZfe8LF-"
      }
    },
    {
      "cell_type": "markdown",
      "source": [
        "### Predicting  a new patient diabetes using our model"
      ],
      "metadata": {
        "id": "Uy9CrKbJ4OtF"
      }
    },
    {
      "cell_type": "code",
      "source": [
        "new_val =[[35,1,24.1,105,75,5,100,50,102,0.91,0,0,0,1]]\n",
        "classifier.predict(new_val)"
      ],
      "metadata": {
        "colab": {
          "base_uri": "https://localhost:8080/"
        },
        "id": "9kmJj-1x4SmP",
        "outputId": "0198dd02-ff36-428f-d888-8b22fd29e7d7"
      },
      "execution_count": null,
      "outputs": [
        {
          "output_type": "execute_result",
          "data": {
            "text/plain": [
              "array([1])"
            ]
          },
          "metadata": {},
          "execution_count": 20
        }
      ]
    },
    {
      "cell_type": "markdown",
      "source": [
        "Comment:\n",
        "\n",
        "> The result indicates that the new patient with the following indicators [ Age : 35, number of pregnancies : 1, BMI : 24.1,Glucose = 105, Blood pressure level : 75, HbA1c : 5, LDL : 100 , HDL : 50, Triglycerides : 102, WHR : 0.91, Family history of diabete : 0, Diet type : Unanblanced(0), hypertension : no hypertendion(0) , Medication use : takes medications(1)] belong to the class 1 which means she/he has diabetes.\n",
        "\n"
      ],
      "metadata": {
        "id": "BWRqSIZC-k4J"
      }
    },
    {
      "cell_type": "markdown",
      "source": [
        "## Testing other models performances"
      ],
      "metadata": {
        "id": "Asl58UnKHBr_"
      }
    },
    {
      "cell_type": "code",
      "source": [
        "from sklearn.neighbors import KNeighborsClassifier\n",
        "from sklearn.tree import DecisionTreeClassifier\n",
        "from sklearn.ensemble import RandomForestClassifier\n",
        "from sklearn.svm import SVC"
      ],
      "metadata": {
        "id": "61nZ2ExYVxHr"
      },
      "execution_count": null,
      "outputs": []
    },
    {
      "cell_type": "code",
      "source": [
        "models = {\n",
        "    'Knn' : KNeighborsClassifier(),\n",
        "    'Decision Tree' : DecisionTreeClassifier(),\n",
        "    'Random forest' : RandomForestClassifier(),\n",
        "    'SVM' : SVC() }\n"
      ],
      "metadata": {
        "id": "Yvqyu2faVYEx"
      },
      "execution_count": null,
      "outputs": []
    },
    {
      "cell_type": "code",
      "source": [
        "for key_model , model_name in models.items() :\n",
        "   fitting = model_name.fit(X_train,y_train)\n",
        "   y_pred = fitting.predict(X_test)\n",
        "   cm = confusion_matrix(y_test,y_pred)\n",
        "   accuracy = accuracy_score(y_test,y_pred)\n",
        "   print(key_model,':')\n",
        "   print('cm : ' ,cm)\n",
        "   print('accuracy score : ' ,accuracy)"
      ],
      "metadata": {
        "colab": {
          "base_uri": "https://localhost:8080/"
        },
        "id": "y-c0hiNwWl4l",
        "outputId": "7822a906-987a-461e-f309-5feb2eed310b"
      },
      "execution_count": null,
      "outputs": [
        {
          "output_type": "stream",
          "name": "stdout",
          "text": [
            "Knn :\n",
            "cm :  [[1265   10]\n",
            " [  42  591]]\n",
            "accuracy score :  0.9727463312368972\n",
            "Decision Tree :\n",
            "cm :  [[1272    3]\n",
            " [   0  633]]\n",
            "accuracy score :  0.9984276729559748\n",
            "Random forest :\n",
            "cm :  [[1272    3]\n",
            " [   0  633]]\n",
            "accuracy score :  0.9984276729559748\n",
            "SVM :\n",
            "cm :  [[1270    5]\n",
            " [  13  620]]\n",
            "accuracy score :  0.9905660377358491\n"
          ]
        }
      ]
    },
    {
      "cell_type": "markdown",
      "source": [
        "Comment :\n",
        "\n",
        "> The accuracy score of the other models show that  Random forest, decision tree and SVM also provide good predictions of our data set if used.\n",
        "\n"
      ],
      "metadata": {
        "id": "SmPA-lk4X2ni"
      }
    }
  ]
}